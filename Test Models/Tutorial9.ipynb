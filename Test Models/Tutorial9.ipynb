{
 "cells": [
  {
   "cell_type": "markdown",
   "metadata": {},
   "source": [
    "# Recurrent GNN"
   ]
  },
  {
   "cell_type": "code",
   "execution_count": 2,
   "metadata": {},
   "outputs": [
    {
     "name": "stderr",
     "output_type": "stream",
     "text": [
      "/Users/michaels/anaconda3/envs/icgnn/lib/python3.11/site-packages/torch_geometric/typing.py:68: UserWarning: An issue occurred while importing 'pyg-lib'. Disabling its usage. Stacktrace: dlopen(/Users/michaels/anaconda3/envs/icgnn/lib/python3.11/site-packages/libpyg.so, 0x0006): Library not loaded: /Library/Frameworks/Python.framework/Versions/3.11/Python\n",
      "  Referenced from: <CA14ED34-FA3D-31FE-B4AD-2B2A8446B324> /Users/michaels/anaconda3/envs/icgnn/lib/python3.11/site-packages/libpyg.so\n",
      "  Reason: tried: '/Library/Frameworks/Python.framework/Versions/3.11/Python' (no such file), '/System/Volumes/Preboot/Cryptexes/OS/Library/Frameworks/Python.framework/Versions/3.11/Python' (no such file), '/Library/Frameworks/Python.framework/Versions/3.11/Python' (no such file)\n",
      "  warnings.warn(f\"An issue occurred while importing 'pyg-lib'. \"\n",
      "/Users/michaels/anaconda3/envs/icgnn/lib/python3.11/site-packages/torch_geometric/typing.py:124: UserWarning: An issue occurred while importing 'torch-sparse'. Disabling its usage. Stacktrace: dlopen(/Users/michaels/anaconda3/envs/icgnn/lib/python3.11/site-packages/libpyg.so, 0x0006): Library not loaded: /Library/Frameworks/Python.framework/Versions/3.11/Python\n",
      "  Referenced from: <CA14ED34-FA3D-31FE-B4AD-2B2A8446B324> /Users/michaels/anaconda3/envs/icgnn/lib/python3.11/site-packages/libpyg.so\n",
      "  Reason: tried: '/Library/Frameworks/Python.framework/Versions/3.11/Python' (no such file), '/System/Volumes/Preboot/Cryptexes/OS/Library/Frameworks/Python.framework/Versions/3.11/Python' (no such file), '/Library/Frameworks/Python.framework/Versions/3.11/Python' (no such file)\n",
      "  warnings.warn(f\"An issue occurred while importing 'torch-sparse'. \"\n"
     ]
    },
    {
     "name": "stdout",
     "output_type": "stream",
     "text": [
      "Using MPS device: mps\n"
     ]
    }
   ],
   "source": [
    "import os.path as osp\n",
    "import torch\n",
    "import torch.nn as nn\n",
    "import torch.nn.functional as F\n",
    "import torch_geometric.transforms as T\n",
    "import torch_geometric\n",
    "from torch_geometric.datasets import Planetoid, TUDataset\n",
    "from torch_geometric.data import DataLoader\n",
    "from torch_geometric.nn.inits import uniform\n",
    "from torch.nn import Parameter as Param\n",
    "from torch import Tensor \n",
    "torch.manual_seed(42)\n",
    "if torch.backends.mps.is_available():\n",
    "    device = torch.device(\"mps\")\n",
    "    print(\"Using MPS device:\", device)\n",
    "else:\n",
    "    device = torch.device(\"cpu\")\n",
    "    print(\"MPS not available, using CPU\")\n",
    "from torch_geometric.nn.conv import MessagePassing"
   ]
  },
  {
   "cell_type": "code",
   "execution_count": 3,
   "metadata": {},
   "outputs": [
    {
     "name": "stderr",
     "output_type": "stream",
     "text": [
      "Downloading https://github.com/kimiyoung/planetoid/raw/master/data/ind.cora.x\n",
      "Downloading https://github.com/kimiyoung/planetoid/raw/master/data/ind.cora.tx\n",
      "Downloading https://github.com/kimiyoung/planetoid/raw/master/data/ind.cora.allx\n",
      "Downloading https://github.com/kimiyoung/planetoid/raw/master/data/ind.cora.y\n",
      "Downloading https://github.com/kimiyoung/planetoid/raw/master/data/ind.cora.ty\n",
      "Downloading https://github.com/kimiyoung/planetoid/raw/master/data/ind.cora.ally\n",
      "Downloading https://github.com/kimiyoung/planetoid/raw/master/data/ind.cora.graph\n",
      "Downloading https://github.com/kimiyoung/planetoid/raw/master/data/ind.cora.test.index\n",
      "Processing...\n",
      "Done!\n"
     ]
    }
   ],
   "source": [
    "dataset = 'Cora'\n",
    "transform = T.Compose([\n",
    "    T.RandomNodeSplit('train_rest', num_val=500, num_test=500),\n",
    "    T.TargetIndegree(),\n",
    "])\n",
    "path = osp.join('data', dataset)\n",
    "dataset = Planetoid(path, dataset, transform=transform)\n",
    "data = dataset[0]"
   ]
  },
  {
   "cell_type": "code",
   "execution_count": 8,
   "metadata": {},
   "outputs": [],
   "source": [
    "dataset = 'Cora'\n",
    "path = osp.join('data', dataset)\n",
    "dataset = Planetoid(path, dataset, transform=T.NormalizeFeatures())\n",
    "data = dataset[0]\n",
    "data = data.to(device)"
   ]
  },
  {
   "cell_type": "markdown",
   "metadata": {},
   "source": [
    "### Graph Neural Network Model"
   ]
  },
  {
   "cell_type": "markdown",
   "metadata": {},
   "source": [
    "The MLP class is used to instantiate the transition and output functions as simple feed forard networks"
   ]
  },
  {
   "cell_type": "code",
   "execution_count": 9,
   "metadata": {},
   "outputs": [],
   "source": [
    "class MLP(nn.Module):\n",
    "    def __init__(self, input_dim, hid_dims, out_dim):\n",
    "        super(MLP, self).__init__()\n",
    "\n",
    "        self.mlp = nn.Sequential()\n",
    "        dims = [input_dim] + hid_dims + [out_dim]\n",
    "        for i in range(len(dims)-1):\n",
    "            self.mlp.add_module('lay_{}'.format(i),nn.Linear(in_features=dims[i], out_features=dims[i+1]))\n",
    "            if i+2 < len(dims):\n",
    "                self.mlp.add_module('act_{}'.format(i), nn.Tanh())\n",
    "    def reset_parameters(self):\n",
    "        for i, l in enumerate(self.mlp):\n",
    "            if type(l) == nn.Linear:\n",
    "                nn.init.xavier_normal_(l.weight)\n",
    "\n",
    "    def forward(self, x):\n",
    "        return self.mlp(x)\n",
    "\n"
   ]
  },
  {
   "cell_type": "markdown",
   "metadata": {},
   "source": [
    "The GNNM calss puts together the state propagations and the readout of the nodes' states."
   ]
  },
  {
   "cell_type": "code",
   "execution_count": 6,
   "metadata": {},
   "outputs": [],
   "source": [
    "class GNNM(MessagePassing):\n",
    "    def __init__(self, n_nodes, out_channels, features_dim, hid_dims, num_layers = 50, eps=1e-3, aggr = 'add',\n",
    "                 bias = True, **kwargs):\n",
    "        super(GNNM, self).__init__(aggr=aggr, **kwargs)\n",
    "\n",
    "        self.node_states = Param(torch.zeros((n_nodes, features_dim)), requires_grad=False)\n",
    "        self.out_channels = out_channels\n",
    "        self.eps = eps\n",
    "        self.num_layers = num_layers\n",
    "        \n",
    "        self.transition = MLP(features_dim, hid_dims, features_dim)\n",
    "        self.readout = MLP(features_dim, hid_dims, out_channels)\n",
    "        \n",
    "        self.reset_parameters()\n",
    "        print(self.transition)\n",
    "        print(self.readout)\n",
    "\n",
    "    def reset_parameters(self):\n",
    "        self.transition.reset_parameters()\n",
    "        self.readout.reset_parameters()\n",
    "        \n",
    "    def forward(self): \n",
    "        edge_index = data.edge_index\n",
    "        edge_weight = data.edge_attr\n",
    "        node_states = self.node_states\n",
    "        for i in range(self.num_layers):\n",
    "            m = self.propagate(edge_index, x=node_states, edge_weight=edge_weight,\n",
    "                               size=None)\n",
    "            new_states = self.transition(m)\n",
    "            with torch.no_grad():\n",
    "                distance = torch.norm(new_states - node_states, dim=1)\n",
    "                convergence = distance < self.eps\n",
    "            node_states = new_states\n",
    "            if convergence.all():\n",
    "                break\n",
    "            \n",
    "        out = self.readout(node_states)\n",
    "        \n",
    "        return F.log_softmax(out, dim=-1)\n",
    "\n",
    "    def message(self, x_j, edge_weight):\n",
    "        return x_j if edge_weight is None else edge_weight.view(-1, 1) * x_j\n",
    "\n",
    "    def message_and_aggregate(self, adj_t, x) :\n",
    "        return matmul(adj_t, x, reduce=self.aggr)\n",
    "\n",
    "    def __repr__(self):\n",
    "        return '{}({}, num_layers={})'.format(self.__class__.__name__,\n",
    "                                              self.out_channels,\n",
    "                                              self.num_layers)"
   ]
  },
  {
   "cell_type": "code",
   "execution_count": 7,
   "metadata": {},
   "outputs": [
    {
     "name": "stdout",
     "output_type": "stream",
     "text": [
      "MLP(\n",
      "  (mlp): Sequential(\n",
      "    (lay_0): Linear(in_features=32, out_features=64, bias=True)\n",
      "    (act_0): Tanh()\n",
      "    (lay_1): Linear(in_features=64, out_features=64, bias=True)\n",
      "    (act_1): Tanh()\n",
      "    (lay_2): Linear(in_features=64, out_features=64, bias=True)\n",
      "    (act_2): Tanh()\n",
      "    (lay_3): Linear(in_features=64, out_features=64, bias=True)\n",
      "    (act_3): Tanh()\n",
      "    (lay_4): Linear(in_features=64, out_features=64, bias=True)\n",
      "    (act_4): Tanh()\n",
      "    (lay_5): Linear(in_features=64, out_features=32, bias=True)\n",
      "  )\n",
      ")\n",
      "MLP(\n",
      "  (mlp): Sequential(\n",
      "    (lay_0): Linear(in_features=32, out_features=64, bias=True)\n",
      "    (act_0): Tanh()\n",
      "    (lay_1): Linear(in_features=64, out_features=64, bias=True)\n",
      "    (act_1): Tanh()\n",
      "    (lay_2): Linear(in_features=64, out_features=64, bias=True)\n",
      "    (act_2): Tanh()\n",
      "    (lay_3): Linear(in_features=64, out_features=64, bias=True)\n",
      "    (act_3): Tanh()\n",
      "    (lay_4): Linear(in_features=64, out_features=64, bias=True)\n",
      "    (act_4): Tanh()\n",
      "    (lay_5): Linear(in_features=64, out_features=7, bias=True)\n",
      "  )\n",
      ")\n"
     ]
    },
    {
     "name": "stderr",
     "output_type": "stream",
     "text": [
      "/Users/michaels/anaconda3/envs/icgnn/lib/python3.11/site-packages/torch_geometric/deprecation.py:26: UserWarning: 'data.DataLoader' is deprecated, use 'loader.DataLoader' instead\n",
      "  warnings.warn(out)\n"
     ]
    },
    {
     "name": "stdout",
     "output_type": "stream",
     "text": [
      "Epoch: 001, Train Acc: 0.12857, Val Acc: 0.06800, Test Acc: 0.08800\n",
      "Epoch: 002, Train Acc: 0.14286, Val Acc: 0.25200, Test Acc: 0.25100\n",
      "Epoch: 003, Train Acc: 0.12143, Val Acc: 0.24400, Test Acc: 0.26100\n",
      "Epoch: 004, Train Acc: 0.17143, Val Acc: 0.20000, Test Acc: 0.20300\n",
      "Epoch: 005, Train Acc: 0.16429, Val Acc: 0.22600, Test Acc: 0.22600\n",
      "Epoch: 006, Train Acc: 0.22143, Val Acc: 0.09800, Test Acc: 0.10100\n",
      "Epoch: 007, Train Acc: 0.17857, Val Acc: 0.13000, Test Acc: 0.12500\n",
      "Epoch: 008, Train Acc: 0.15000, Val Acc: 0.11200, Test Acc: 0.09900\n",
      "Epoch: 009, Train Acc: 0.10714, Val Acc: 0.08200, Test Acc: 0.06800\n",
      "Epoch: 010, Train Acc: 0.20000, Val Acc: 0.08600, Test Acc: 0.09700\n",
      "Epoch: 011, Train Acc: 0.18571, Val Acc: 0.11200, Test Acc: 0.09300\n",
      "Epoch: 012, Train Acc: 0.12857, Val Acc: 0.11000, Test Acc: 0.08000\n",
      "Epoch: 013, Train Acc: 0.12857, Val Acc: 0.12400, Test Acc: 0.11300\n",
      "Epoch: 014, Train Acc: 0.12857, Val Acc: 0.14000, Test Acc: 0.13500\n",
      "Epoch: 015, Train Acc: 0.12857, Val Acc: 0.18200, Test Acc: 0.19600\n",
      "Epoch: 016, Train Acc: 0.13571, Val Acc: 0.15600, Test Acc: 0.15500\n",
      "Epoch: 017, Train Acc: 0.14286, Val Acc: 0.07200, Test Acc: 0.09100\n",
      "Epoch: 018, Train Acc: 0.15000, Val Acc: 0.08800, Test Acc: 0.08500\n",
      "Epoch: 019, Train Acc: 0.15714, Val Acc: 0.12000, Test Acc: 0.10400\n",
      "Epoch: 020, Train Acc: 0.15000, Val Acc: 0.11400, Test Acc: 0.10300\n",
      "Epoch: 021, Train Acc: 0.16429, Val Acc: 0.11600, Test Acc: 0.10900\n",
      "Epoch: 022, Train Acc: 0.15714, Val Acc: 0.13000, Test Acc: 0.11200\n",
      "Epoch: 023, Train Acc: 0.10714, Val Acc: 0.13400, Test Acc: 0.12200\n",
      "Epoch: 024, Train Acc: 0.16429, Val Acc: 0.18600, Test Acc: 0.16000\n",
      "Epoch: 025, Train Acc: 0.16429, Val Acc: 0.17200, Test Acc: 0.14900\n",
      "Epoch: 026, Train Acc: 0.16429, Val Acc: 0.16000, Test Acc: 0.13700\n",
      "Epoch: 027, Train Acc: 0.17857, Val Acc: 0.17000, Test Acc: 0.14600\n",
      "Epoch: 028, Train Acc: 0.14286, Val Acc: 0.06000, Test Acc: 0.06600\n",
      "Epoch: 029, Train Acc: 0.15000, Val Acc: 0.05800, Test Acc: 0.06600\n",
      "Epoch: 030, Train Acc: 0.13571, Val Acc: 0.05800, Test Acc: 0.06600\n",
      "Epoch: 031, Train Acc: 0.16429, Val Acc: 0.06200, Test Acc: 0.06900\n",
      "Epoch: 032, Train Acc: 0.21429, Val Acc: 0.10000, Test Acc: 0.12100\n",
      "Epoch: 033, Train Acc: 0.14286, Val Acc: 0.07200, Test Acc: 0.09100\n",
      "Epoch: 034, Train Acc: 0.14286, Val Acc: 0.07400, Test Acc: 0.08800\n",
      "Epoch: 035, Train Acc: 0.16429, Val Acc: 0.15200, Test Acc: 0.14900\n",
      "Epoch: 036, Train Acc: 0.20714, Val Acc: 0.12000, Test Acc: 0.10200\n",
      "Epoch: 037, Train Acc: 0.17143, Val Acc: 0.10600, Test Acc: 0.10900\n",
      "Epoch: 038, Train Acc: 0.15000, Val Acc: 0.11200, Test Acc: 0.09100\n",
      "Epoch: 039, Train Acc: 0.11429, Val Acc: 0.12000, Test Acc: 0.11400\n",
      "Epoch: 040, Train Acc: 0.12857, Val Acc: 0.09000, Test Acc: 0.08900\n",
      "Epoch: 041, Train Acc: 0.14286, Val Acc: 0.12000, Test Acc: 0.13100\n",
      "Epoch: 042, Train Acc: 0.12857, Val Acc: 0.11800, Test Acc: 0.12400\n",
      "Epoch: 043, Train Acc: 0.15714, Val Acc: 0.16000, Test Acc: 0.14400\n",
      "Epoch: 044, Train Acc: 0.14286, Val Acc: 0.15600, Test Acc: 0.14400\n",
      "Epoch: 045, Train Acc: 0.12857, Val Acc: 0.05400, Test Acc: 0.06200\n",
      "Epoch: 046, Train Acc: 0.12143, Val Acc: 0.12600, Test Acc: 0.12900\n",
      "Epoch: 047, Train Acc: 0.21429, Val Acc: 0.22200, Test Acc: 0.20200\n",
      "Epoch: 048, Train Acc: 0.15714, Val Acc: 0.18800, Test Acc: 0.16500\n",
      "Epoch: 049, Train Acc: 0.17143, Val Acc: 0.10200, Test Acc: 0.09400\n",
      "Epoch: 050, Train Acc: 0.19286, Val Acc: 0.12000, Test Acc: 0.12300\n"
     ]
    }
   ],
   "source": [
    "model = GNNM(data.num_nodes, dataset.num_classes, 32, [64,64,64,64,64], eps=0.01).to(device)\n",
    "optimizer = torch.optim.Adam(model.parameters(), lr=0.001)\n",
    "loss_fn = nn.CrossEntropyLoss()\n",
    "\n",
    "\n",
    "test_dataset = dataset[:len(dataset) // 10]\n",
    "train_dataset = dataset[len(dataset) // 10:]\n",
    "test_loader = DataLoader(test_dataset)\n",
    "train_loader = DataLoader(train_dataset)\n",
    "\n",
    "def train():\n",
    "    model.train()\n",
    "    optimizer.zero_grad()\n",
    "    loss_fn(model()[data.train_mask], data.y[data.train_mask]).backward()\n",
    "    optimizer.step()\n",
    "\n",
    "\n",
    "def test():\n",
    "    model.eval()\n",
    "    logits, accs = model(), []\n",
    "    for _, mask in data('train_mask', 'val_mask', 'test_mask'):\n",
    "        pred = logits[mask].max(1)[1]\n",
    "        acc = pred.eq(data.y[mask]).sum().item() / mask.sum().item()\n",
    "        accs.append(acc)\n",
    "    return accs\n",
    "\n",
    "\n",
    "for epoch in range(1, 51):\n",
    "    train()\n",
    "    accs = test()\n",
    "    train_acc = accs[0]\n",
    "    val_acc = accs[1]\n",
    "    test_acc = accs[2]\n",
    "    print('Epoch: {:03d}, Train Acc: {:.5f}, '\n",
    "          'Val Acc: {:.5f}, Test Acc: {:.5f}'.format(epoch, train_acc,\n",
    "                                                       val_acc, test_acc))"
   ]
  }
 ],
 "metadata": {
  "kernelspec": {
   "display_name": "Python 3 (ipykernel)",
   "language": "python",
   "name": "python3"
  },
  "language_info": {
   "codemirror_mode": {
    "name": "ipython",
    "version": 3
   },
   "file_extension": ".py",
   "mimetype": "text/x-python",
   "name": "python",
   "nbconvert_exporter": "python",
   "pygments_lexer": "ipython3",
   "version": "3.11.11"
  }
 },
 "nbformat": 4,
 "nbformat_minor": 4
}
