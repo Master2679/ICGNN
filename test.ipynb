{
 "cells": [
  {
   "cell_type": "code",
   "execution_count": 1,
   "id": "9532c252-33bc-4fc0-b8b3-bd1de93bdb4c",
   "metadata": {},
   "outputs": [
    {
     "name": "stdout",
     "output_type": "stream",
     "text": [
      "CVXPY Installation ✅\n",
      "Optimal value: 3.0000000082813534\n",
      "Optimal solution: [9.99871312e-01 1.28687898e-04]\n"
     ]
    }
   ],
   "source": [
    "import cvxpy as cp\n",
    "import numpy as np\n",
    "\n",
    "# Define a simple convex optimization problem\n",
    "x = cp.Variable(2)\n",
    "objective = cp.Minimize(cp.norm(x, 2) + 2 * x[0] + 3 * x[1])\n",
    "constraints = [x[0] + x[1] == 1, x[0] >= 0, x[1] >= 0]\n",
    "problem = cp.Problem(objective, constraints)\n",
    "\n",
    "try:\n",
    "    problem.solve()\n",
    "    print(\"CVXPY Installation ✅\")\n",
    "    print(\"Optimal value:\", problem.value)\n",
    "    print(\"Optimal solution:\", x.value)\n",
    "except Exception as e:\n",
    "    print(\"CVXPY Installation ❌\")\n",
    "    print(e)"
   ]
  },
  {
   "cell_type": "code",
   "execution_count": 2,
   "id": "6ef90095-1974-459b-bbe7-00422f62c4e4",
   "metadata": {},
   "outputs": [
    {
     "name": "stderr",
     "output_type": "stream",
     "text": [
      "GPU available: True (mps), used: True\n",
      "TPU available: False, using: 0 TPU cores\n",
      "HPU available: False, using: 0 HPUs\n",
      "/Users/michaels/anaconda3/envs/icgnn/lib/python3.11/site-packages/pytorch_lightning/trainer/connectors/logger_connector/logger_connector.py:76: Starting from v1.9.0, `tensorboardX` has been removed as a dependency of the `pytorch_lightning` package, due to potential conflicts with other packages in the ML ecosystem. For this reason, `logger=True` will use `CSVLogger` as the default logger, unless the `tensorboard` or `tensorboardX` packages are found. Please `pip install lightning[extra]` or one of them to enable TensorBoard support by default\n",
      "\n",
      "  | Name  | Type   | Params | Mode \n",
      "-----------------------------------------\n",
      "0 | layer | Linear | 11     | train\n",
      "-----------------------------------------\n",
      "11        Trainable params\n",
      "0         Non-trainable params\n",
      "11        Total params\n",
      "0.000     Total estimated model params size (MB)\n",
      "1         Modules in train mode\n",
      "0         Modules in eval mode\n",
      "/Users/michaels/anaconda3/envs/icgnn/lib/python3.11/site-packages/pytorch_lightning/trainer/connectors/data_connector.py:425: The 'train_dataloader' does not have many workers which may be a bottleneck. Consider increasing the value of the `num_workers` argument` to `num_workers=11` in the `DataLoader` to improve performance.\n",
      "/Users/michaels/anaconda3/envs/icgnn/lib/python3.11/site-packages/pytorch_lightning/loops/fit_loop.py:310: The number of training batches (4) is smaller than the logging interval Trainer(log_every_n_steps=50). Set a lower value for log_every_n_steps if you want to see logs for the training epoch.\n"
     ]
    },
    {
     "name": "stdout",
     "output_type": "stream",
     "text": [
      "Batch 0, Loss: 1.0384576320648193                         | 0/4 [00:00<?, ?it/s]\n",
      "Batch 1, Loss: 0.8321084380149841        | 1/4 [00:00<00:02,  1.31it/s, v_num=2]\n",
      "Batch 2, Loss: 1.5179803371429443        | 2/4 [00:00<00:00,  2.61it/s, v_num=2]\n",
      "Batch 3, Loss: 3.7999563217163086█▎      | 3/4 [00:00<00:00,  3.89it/s, v_num=2]\n",
      "Epoch 0: 100%|███████████████████████████| 4/4 [00:01<00:00,  3.97it/s, v_num=2]"
     ]
    },
    {
     "name": "stderr",
     "output_type": "stream",
     "text": [
      "`Trainer.fit` stopped: `max_epochs=1` reached.\n"
     ]
    },
    {
     "name": "stdout",
     "output_type": "stream",
     "text": [
      "Epoch 0: 100%|███████████████████████████| 4/4 [00:01<00:00,  3.97it/s, v_num=2]\n",
      "PyTorch Lightning Installation ✅\n"
     ]
    }
   ],
   "source": [
    "import pytorch_lightning as pl\n",
    "import torch\n",
    "from torch import nn\n",
    "from torch.utils.data import DataLoader, TensorDataset\n",
    "\n",
    "class SimpleModel(pl.LightningModule):\n",
    "    def __init__(self):\n",
    "        super().__init__()\n",
    "        self.layer = nn.Linear(10, 1)\n",
    "\n",
    "    def forward(self, x):\n",
    "        return self.layer(x)\n",
    "\n",
    "    def training_step(self, batch, batch_idx):\n",
    "        x, y = batch\n",
    "        y_hat = self(x)\n",
    "        loss = nn.MSELoss()(y_hat, y)\n",
    "        print(f\"Batch {batch_idx}, Loss: {loss.item()}\")\n",
    "        return loss\n",
    "\n",
    "    def configure_optimizers(self):\n",
    "        return torch.optim.Adam(self.parameters(), lr=0.001)\n",
    "\n",
    "# Create some dummy data\n",
    "dataset = TensorDataset(torch.randn(100, 10), torch.randn(100, 1))\n",
    "dataloader = DataLoader(dataset, batch_size=32)\n",
    "\n",
    "# Train the model\n",
    "model = SimpleModel()\n",
    "trainer = pl.Trainer(max_epochs=1, devices=\"auto\", accelerator=\"auto\", enable_checkpointing=False)\n",
    "\n",
    "try:\n",
    "    trainer.fit(model, dataloader)\n",
    "    print(\"PyTorch Lightning Installation ✅\")\n",
    "except Exception as e:\n",
    "    print(\"PyTorch Lightning Installation ❌\")\n",
    "    print(e)"
   ]
  },
  {
   "cell_type": "code",
   "execution_count": 3,
   "id": "f385d156-8c3c-4817-8bbb-1b83f617dfc3",
   "metadata": {},
   "outputs": [
    {
     "name": "stdout",
     "output_type": "stream",
     "text": [
      "PyTorch Geometric Installation ✅\n",
      "PyG Model Forward Pass ✅\n",
      "Output Shape: torch.Size([3, 4])\n",
      "Output Tensor: tensor([[ 0.3583, -0.2827, -0.0553,  0.3753],\n",
      "        [ 0.5730, -0.4489, -0.1430,  0.5960],\n",
      "        [ 0.2773, -0.1973, -0.4069,  0.2629]], grad_fn=<AddBackward0>)\n"
     ]
    },
    {
     "name": "stderr",
     "output_type": "stream",
     "text": [
      "/Users/michaels/anaconda3/envs/icgnn/lib/python3.11/site-packages/torch_geometric/typing.py:68: UserWarning: An issue occurred while importing 'pyg-lib'. Disabling its usage. Stacktrace: dlopen(/Users/michaels/anaconda3/envs/icgnn/lib/python3.11/site-packages/libpyg.so, 0x0006): Library not loaded: /Library/Frameworks/Python.framework/Versions/3.11/Python\n",
      "  Referenced from: <CA14ED34-FA3D-31FE-B4AD-2B2A8446B324> /Users/michaels/anaconda3/envs/icgnn/lib/python3.11/site-packages/libpyg.so\n",
      "  Reason: tried: '/Library/Frameworks/Python.framework/Versions/3.11/Python' (no such file), '/System/Volumes/Preboot/Cryptexes/OS/Library/Frameworks/Python.framework/Versions/3.11/Python' (no such file), '/Library/Frameworks/Python.framework/Versions/3.11/Python' (no such file)\n",
      "  warnings.warn(f\"An issue occurred while importing 'pyg-lib'. \"\n",
      "/Users/michaels/anaconda3/envs/icgnn/lib/python3.11/site-packages/torch_geometric/typing.py:124: UserWarning: An issue occurred while importing 'torch-sparse'. Disabling its usage. Stacktrace: dlopen(/Users/michaels/anaconda3/envs/icgnn/lib/python3.11/site-packages/libpyg.so, 0x0006): Library not loaded: /Library/Frameworks/Python.framework/Versions/3.11/Python\n",
      "  Referenced from: <CA14ED34-FA3D-31FE-B4AD-2B2A8446B324> /Users/michaels/anaconda3/envs/icgnn/lib/python3.11/site-packages/libpyg.so\n",
      "  Reason: tried: '/Library/Frameworks/Python.framework/Versions/3.11/Python' (no such file), '/System/Volumes/Preboot/Cryptexes/OS/Library/Frameworks/Python.framework/Versions/3.11/Python' (no such file), '/Library/Frameworks/Python.framework/Versions/3.11/Python' (no such file)\n",
      "  warnings.warn(f\"An issue occurred while importing 'torch-sparse'. \"\n"
     ]
    }
   ],
   "source": [
    "import torch\n",
    "import torch_geometric\n",
    "from torch_geometric.data import Data\n",
    "from torch_geometric.nn import GCNConv\n",
    "\n",
    "print(\"PyTorch Geometric Installation ✅\")\n",
    "\n",
    "# Create a simple graph\n",
    "# 3 nodes (0, 1, 2) with 4 edges\n",
    "edge_index = torch.tensor([[0, 1, 1, 2],\n",
    "                           [1, 0, 2, 1]], dtype=torch.long)\n",
    "\n",
    "# 3 nodes with 2 features each\n",
    "x = torch.tensor([[1, 0],\n",
    "                  [0, 1],\n",
    "                  [1, 1]], dtype=torch.float)\n",
    "\n",
    "# Create the graph data object\n",
    "data = Data(x=x, edge_index=edge_index)\n",
    "\n",
    "# Define a simple GCN layer\n",
    "conv = GCNConv(2, 4)\n",
    "\n",
    "# Forward pass\n",
    "try:\n",
    "    output = conv(data.x, data.edge_index)\n",
    "    print(\"PyG Model Forward Pass ✅\")\n",
    "    print(\"Output Shape:\", output.shape)\n",
    "    print(\"Output Tensor:\", output)\n",
    "except Exception as e:\n",
    "    print(\"PyG Model Forward Pass ❌\")\n",
    "    print(e)"
   ]
  },
  {
   "cell_type": "code",
   "execution_count": 4,
   "id": "6c881450-50c4-433d-9d73-007271004fa1",
   "metadata": {},
   "outputs": [
    {
     "name": "stdout",
     "output_type": "stream",
     "text": [
      "PyTorch Geometric Installation ✅\n",
      "PyG Model Forward Pass ✅\n",
      "Output Shape: torch.Size([3, 4])\n",
      "Output Tensor: tensor([[-0.4719, -0.1090,  0.6074,  0.2761],\n",
      "        [-0.7901, -0.2119,  1.0174,  0.4290],\n",
      "        [-0.6024, -0.3351,  0.7772,  0.1299]], grad_fn=<AddBackward0>)\n"
     ]
    }
   ],
   "source": [
    "import torch\n",
    "import torch_geometric\n",
    "from torch_geometric.data import Data\n",
    "from torch_geometric.nn import GCNConv\n",
    "\n",
    "print(\"PyTorch Geometric Installation ✅\")\n",
    "\n",
    "# Create a simple graph\n",
    "# 3 nodes (0, 1, 2) with 4 edges\n",
    "edge_index = torch.tensor([[0, 1, 1, 2],\n",
    "                           [1, 0, 2, 1]], dtype=torch.long)\n",
    "\n",
    "# 3 nodes with 2 features each\n",
    "x = torch.tensor([[1, 0],\n",
    "                  [0, 1],\n",
    "                  [1, 1]], dtype=torch.float)\n",
    "\n",
    "# Create the graph data object\n",
    "data = Data(x=x, edge_index=edge_index)\n",
    "\n",
    "# Define a simple GCN layer\n",
    "conv = GCNConv(2, 4)\n",
    "\n",
    "# Forward pass\n",
    "try:\n",
    "    output = conv(data.x, data.edge_index)\n",
    "    print(\"PyG Model Forward Pass ✅\")\n",
    "    print(\"Output Shape:\", output.shape)\n",
    "    print(\"Output Tensor:\", output)\n",
    "except Exception as e:\n",
    "    print(\"PyG Model Forward Pass ❌\")\n",
    "    print(e)"
   ]
  },
  {
   "cell_type": "code",
   "execution_count": 5,
   "id": "646b2b2f-3362-4d15-b081-363c64098f52",
   "metadata": {},
   "outputs": [
    {
     "name": "stdout",
     "output_type": "stream",
     "text": [
      "Running on MPS ✅\n",
      "Output Shape (MPS): torch.Size([3, 4])\n",
      "tensor([[-0.4719, -0.1090,  0.6074,  0.2761],\n",
      "        [-0.7901, -0.2119,  1.0174,  0.4290],\n",
      "        [-0.6024, -0.3351,  0.7772,  0.1299]], device='mps:0',\n",
      "       grad_fn=<AddBackward0>)\n"
     ]
    }
   ],
   "source": [
    "if torch.backends.mps.is_available():\n",
    "    data.x = data.x.to(\"mps\")\n",
    "    data.edge_index = data.edge_index.to(\"mps\")\n",
    "    conv.to(\"mps\")\n",
    "    print(\"Running on MPS ✅\")\n",
    "    output = conv(data.x, data.edge_index)\n",
    "    print(\"Output Shape (MPS):\", output.shape)\n",
    "    print(\"Output Tensor (MPS):\", output)\n",
    "else:\n",
    "    print(\"MPS not available ❌\")"
   ]
  },
  {
   "cell_type": "code",
   "execution_count": null,
   "id": "6e618ab3-3272-43d0-8b8c-6f61f536c83f",
   "metadata": {},
   "outputs": [],
   "source": []
  }
 ],
 "metadata": {
  "kernelspec": {
   "display_name": "Python 3 (ipykernel)",
   "language": "python",
   "name": "python3"
  },
  "language_info": {
   "codemirror_mode": {
    "name": "ipython",
    "version": 3
   },
   "file_extension": ".py",
   "mimetype": "text/x-python",
   "name": "python",
   "nbconvert_exporter": "python",
   "pygments_lexer": "ipython3",
   "version": "3.11.11"
  }
 },
 "nbformat": 4,
 "nbformat_minor": 5
}
